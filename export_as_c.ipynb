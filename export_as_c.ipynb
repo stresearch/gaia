{
 "cells": [
  {
   "cell_type": "code",
   "execution_count": 6,
   "id": "07c1e57d-3cdb-43d4-a48b-4021e8f8311b",
   "metadata": {},
   "outputs": [
    {
     "name": "stderr",
     "output_type": "stream",
     "text": [
      "no stats provided, assuming will be loaded later, initializing randomly\n",
      "unkown kwargs ['dataset_params']\n"
     ]
    },
    {
     "data": {
      "text/plain": [
       "1552"
      ]
     },
     "execution_count": 6,
     "metadata": {},
     "output_type": "execute_result"
    }
   ],
   "source": [
    "import sys\n",
    "sys.path.append(\"gaia-surrogate\")\n",
    "import torch\n",
    "from gaia.models import TrainingModel\n",
    "from gaia.training import get_checkpoint_file\n",
    "model_dir = \"/proj/gaia-climate/team/kirill/gaia-surrogate/lightning_logs/version_9\"\n",
    "model = TrainingModel.load_from_checkpoint(\n",
    "            get_checkpoint_file(model_dir), map_location = \"cpu\",\n",
    "        )\n",
    "_ = model.eval()\n",
    "example = torch.rand(10,164)\n",
    "out = model.model(example)\n",
    "traced_script_module = torch.jit.trace(model.model, example)\n",
    "traced_script_module.save(\"traced_model.pt\")\n",
    "open(\"traced_model_arch_printed.txt\",\"w\").write(str(traced_script_module))"
   ]
  },
  {
   "cell_type": "code",
   "execution_count": 5,
   "id": "b474ad8c-c3c8-48ff-a512-3e9221c3207a",
   "metadata": {},
   "outputs": [
    {
     "data": {
      "text/plain": [
       "1552"
      ]
     },
     "execution_count": 5,
     "metadata": {},
     "output_type": "execute_result"
    }
   ],
   "source": []
  }
 ],
 "metadata": {
  "kernelspec": {
   "display_name": "praxis",
   "language": "python",
   "name": "praxis"
  },
  "language_info": {
   "codemirror_mode": {
    "name": "ipython",
    "version": 3
   },
   "file_extension": ".py",
   "mimetype": "text/x-python",
   "name": "python",
   "nbconvert_exporter": "python",
   "pygments_lexer": "ipython3",
   "version": "3.8.10"
  }
 },
 "nbformat": 4,
 "nbformat_minor": 5
}
