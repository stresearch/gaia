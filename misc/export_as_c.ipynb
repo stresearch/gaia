{
 "cells": [
  {
   "cell_type": "code",
   "execution_count": null,
   "id": "07c1e57d-3cdb-43d4-a48b-4021e8f8311b",
   "metadata": {},
   "outputs": [],
   "source": [
    "import sys\n",
    "sys.path.append(\"../../gaia-surrogate\")\n",
    "import torch\n",
    "from gaia.models import TrainingModel\n",
    "from gaia.training import get_checkpoint_file\n",
    "model_dir = \"/proj/gaia-climate/team/kirill/gaia-surrogate/lightning_logs/version_1/\"\n",
    "model = TrainingModel.load_from_checkpoint(\n",
    "            get_checkpoint_file(model_dir), map_location = \"cpu\",\n",
    "        )\n"
   ]
  },
  {
   "cell_type": "code",
   "execution_count": null,
   "id": "a1856bba-18f4-4894-b4b9-72a96482e820",
   "metadata": {},
   "outputs": [],
   "source": [
    "%debug"
   ]
  },
  {
   "cell_type": "code",
   "execution_count": null,
   "id": "8651ed4d-8f1f-47b7-999e-803d5393e89f",
   "metadata": {},
   "outputs": [],
   "source": [
    "_ = model.eval()\n",
    "example = torch.rand(10,164)\n",
    "out = model.model(example)\n",
    "traced_script_module = torch.jit.trace(model.model, example)\n",
    "traced_script_module.save(\"traced_model.pt\")\n",
    "from collections import \n",
    "open(\"traced_model_arch_printed.txt\",\"w\").write(str(traced_script_module))"
   ]
  },
  {
   "cell_type": "code",
   "execution_count": null,
   "id": "550c188c-9702-45df-9c53-04f71814c7a4",
   "metadata": {},
   "outputs": [],
   "source": [
    "from collections import OrderedDict\n",
    "import numpy as np"
   ]
  },
  {
   "cell_type": "code",
   "execution_count": null,
   "id": "70208d07-c5ce-4ed2-8398-6297f5d2df1c",
   "metadata": {},
   "outputs": [],
   "source": [
    "inputs = list(model.hparams.input_index.keys())\n",
    "outputs = list(model.hparams.output_index.keys())\n",
    "\n",
    "np.random.shuffle(inputs)\n",
    "np.random.shuffle(outputs)\n",
    "\n"
   ]
  },
  {
   "cell_type": "code",
   "execution_count": null,
   "id": "d3940d76-a717-405a-b00d-6320c32069ba",
   "metadata": {},
   "outputs": [],
   "source": [
    "print(inputs, outputs)"
   ]
  },
  {
   "cell_type": "code",
   "execution_count": null,
   "id": "b474ad8c-c3c8-48ff-a512-3e9221c3207a",
   "metadata": {},
   "outputs": [],
   "source": [
    "class ModelForExport(torch.nn.Module):\n",
    "    def __init__(self, training_model, input_order, output_order):\n",
    "        super().__init__()\n",
    "        self.input_normalize = training_model.input_normalize\n",
    "        self.output_normalize = training_model.output_normalize\n",
    "        self.model = training_model.model\n",
    "        \n",
    "        \n",
    "        input_order_index = OrderedDict()\n",
    "        i = 0\n",
    "        \n",
    "        for k in input_order:\n",
    "            s,e  = training_model.hparams.input_index[k]\n",
    "            v_size = e - s\n",
    "            input_order_index[k] = (i,i + v_size)\n",
    "            i = i + v_size\n",
    "\n",
    "        self.register_buffer(\"input_order\",torch.cat([torch.arange(*input_order_index[k]) for k in training_model.hparams.input_index.keys()]))\n",
    "        self.register_buffer(\"output_order\",torch.cat([torch.arange(*training_model.hparams.output_index[k]) for k in output_order]))\n",
    "        \n",
    "    def forward(self,x):\n",
    "        x = x[:,self.input_order,...]\n",
    "        x = self.input_normalize(x)\n",
    "        \n",
    "        y = self.model(x)\n",
    "        y = self.output_normalize(y, normalize=False)\n",
    "        y = y[:,self.output_order,...]\n",
    "        return y\n",
    "    \n",
    "    \n",
    "model_for_export = ModelForExport(model, inputs, outputs).eval()\n",
    "example = torch.rand(10,164)\n",
    "out = model_for_export(example)\n",
    "traced_script_module = torch.jit.trace(model_for_export, example)\n",
    "traced_script_module.save(\"traced_model.pt\")\n",
    "\n",
    "open(\"traced_model_arch_printed.txt\",\"w\").write(str(traced_script_module))"
   ]
  }
 ],
 "metadata": {
  "kernelspec": {
   "display_name": "praxis",
   "language": "python",
   "name": "praxis"
  },
  "language_info": {
   "codemirror_mode": {
    "name": "ipython",
    "version": 3
   },
   "file_extension": ".py",
   "mimetype": "text/x-python",
   "name": "python",
   "nbconvert_exporter": "python",
   "pygments_lexer": "ipython3",
   "version": "3.8.10"
  }
 },
 "nbformat": 4,
 "nbformat_minor": 5
}
